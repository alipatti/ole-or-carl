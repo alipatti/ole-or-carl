{
 "cells": [
  {
   "cell_type": "code",
   "execution_count": 1,
   "metadata": {},
   "outputs": [
    {
     "name": "stdout",
     "output_type": "stream",
     "text": [
      "/Users/ali/Documents/CS tomfoolery/oleorcarl\n"
     ]
    }
   ],
   "source": [
    "cd .."
   ]
  },
  {
   "cell_type": "code",
   "execution_count": 2,
   "metadata": {},
   "outputs": [],
   "source": [
    "from src.database.models import Student, db\n",
    "from src.scraper.items import StudentItem"
   ]
  },
  {
   "cell_type": "code",
   "execution_count": 3,
   "metadata": {},
   "outputs": [
    {
     "data": {
      "text/plain": [
       "{'__data__': {'name': 'Alistair Pattison', 'email': 'pattisona@carleton.edu'},\n",
       " '_dirty': {'email', 'name'},\n",
       " '__rel__': {}}"
      ]
     },
     "execution_count": 3,
     "metadata": {},
     "output_type": "execute_result"
    }
   ],
   "source": [
    "alistair = Student()\n",
    "alistair.name = \"Alistair Pattison\"\n",
    "alistair.email = \"pattisona@carleton.edu\"\n",
    "vars(alistair)"
   ]
  },
  {
   "cell_type": "code",
   "execution_count": 4,
   "metadata": {},
   "outputs": [
    {
     "data": {
      "text/plain": [
       "{'name': 'Alistair Pattison', 'email': 'pattisona@carleton.edu', 'image': '12'}"
      ]
     },
     "metadata": {},
     "output_type": "display_data"
    },
    {
     "data": {
      "text/plain": [
       "{'name': 'Alistair Pattison', 'email': 'pattisona@carleton.edu', 'image': '12'}"
      ]
     },
     "metadata": {},
     "output_type": "display_data"
    }
   ],
   "source": [
    "Alistair = StudentItem(alistair)\n",
    "Alistair[\"image\"] = \"12\"\n",
    "display(Alistair)\n",
    "display(alistair.__data__)"
   ]
  },
  {
   "cell_type": "code",
   "execution_count": 13,
   "metadata": {},
   "outputs": [
    {
     "data": {
      "text/plain": [
       "{'name': 'Alistair Pattison',\n",
       " 'email': 'pattisona@carleton.edu',\n",
       " 'image': '123'}"
      ]
     },
     "execution_count": 13,
     "metadata": {},
     "output_type": "execute_result"
    }
   ],
   "source": [
    "alistair.image = \"123\"\n",
    "alistair.__data__"
   ]
  },
  {
   "cell_type": "code",
   "execution_count": null,
   "metadata": {},
   "outputs": [],
   "source": []
  },
  {
   "cell_type": "code",
   "execution_count": 2,
   "metadata": {},
   "outputs": [
    {
     "data": {
      "text/plain": [
       "[{'domain': '.carleton.edu',\n",
       "  'expiry': 1699586315,\n",
       "  'httpOnly': False,\n",
       "  'name': '_ga',\n",
       "  'path': '/',\n",
       "  'secure': False,\n",
       "  'value': 'GA1.1.1453914687.1665026315'},\n",
       " {'domain': '.carleton.edu',\n",
       "  'expiry': 1699586315,\n",
       "  'httpOnly': False,\n",
       "  'name': '_ga_VNJBV9BSSQ',\n",
       "  'path': '/',\n",
       "  'secure': False,\n",
       "  'value': 'GS1.1.1665026315.1.0.1665026315.0.0.0'},\n",
       " {'domain': '.carleton.edu',\n",
       "  'expiry': 1665026374,\n",
       "  'httpOnly': False,\n",
       "  'name': '_gat',\n",
       "  'path': '/',\n",
       "  'secure': False,\n",
       "  'value': '1'},\n",
       " {'domain': 'www.carleton.edu',\n",
       "  'httpOnly': True,\n",
       "  'name': 'wordpress_sec_2909fed3ec4894e3dcdf70af9ea68ab8',\n",
       "  'path': '/',\n",
       "  'secure': True,\n",
       "  'value': 'pattisona%7C1665199113%7CGeHEdZcChtHlry2aKKbKomcL7dgzVC1jvPCdBqX07DE%7Cecb400f33fe80234c87ee020924814639704ea4128f90764f1c3420cee9a6569'},\n",
       " {'domain': '.carleton.edu',\n",
       "  'expiry': 1665112714,\n",
       "  'httpOnly': False,\n",
       "  'name': '_gid',\n",
       "  'path': '/',\n",
       "  'secure': False,\n",
       "  'value': 'GA1.2.475353470.1665026315'},\n",
       " {'domain': 'www.carleton.edu',\n",
       "  'httpOnly': False,\n",
       "  'name': 'wordpress_test_cookie',\n",
       "  'path': '/',\n",
       "  'secure': True,\n",
       "  'value': 'WP%20Cookie%20check'},\n",
       " {'domain': 'www.carleton.edu',\n",
       "  'httpOnly': True,\n",
       "  'name': 'wordpress_logged_in_2909fed3ec4894e3dcdf70af9ea68ab8',\n",
       "  'path': '/',\n",
       "  'secure': True,\n",
       "  'value': 'pattisona%7C1665199113%7CGeHEdZcChtHlry2aKKbKomcL7dgzVC1jvPCdBqX07DE%7C9c17acd074c64f12d74e88a38263d7c8c8dfa03e5ca208a670a99ecd262b72f1'},\n",
       " {'domain': 'www.carleton.edu',\n",
       "  'httpOnly': False,\n",
       "  'name': 'PHPSESSID',\n",
       "  'path': '/',\n",
       "  'secure': False,\n",
       "  'value': '53q44ak8mofuu4pstjt3kfh6vg'},\n",
       " {'domain': 'www.carleton.edu',\n",
       "  'httpOnly': False,\n",
       "  'name': 'wordpress_google_apps_login',\n",
       "  'path': '/',\n",
       "  'secure': True,\n",
       "  'value': '7d4e81d00aa9b745f7f4291e4b8acbf2'}]"
      ]
     },
     "execution_count": 2,
     "metadata": {},
     "output_type": "execute_result"
    }
   ],
   "source": [
    "from oleorcarl.scraper.spiders.carleton import _get_carleton_cookies\n",
    "\n",
    "_get_carleton_cookies()"
   ]
  },
  {
   "cell_type": "code",
   "execution_count": null,
   "metadata": {},
   "outputs": [],
   "source": []
  }
 ],
 "metadata": {
  "kernelspec": {
   "display_name": "Python 3.10.0 ('oleorcarl-ypM5UQCF')",
   "language": "python",
   "name": "python3"
  },
  "language_info": {
   "codemirror_mode": {
    "name": "ipython",
    "version": 3
   },
   "file_extension": ".py",
   "mimetype": "text/x-python",
   "name": "python",
   "nbconvert_exporter": "python",
   "pygments_lexer": "ipython3",
   "version": "3.10.0"
  },
  "orig_nbformat": 4,
  "vscode": {
   "interpreter": {
    "hash": "cc9288d8c71d69228e6f76eac89258e0418dfd18851f27c7a8fd13f676178492"
   }
  }
 },
 "nbformat": 4,
 "nbformat_minor": 2
}
