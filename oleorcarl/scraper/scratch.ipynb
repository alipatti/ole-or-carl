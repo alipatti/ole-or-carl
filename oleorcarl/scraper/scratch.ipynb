{
 "cells": [
  {
   "cell_type": "code",
   "execution_count": 1,
   "metadata": {},
   "outputs": [
    {
     "name": "stdout",
     "output_type": "stream",
     "text": [
      "/Users/ali/Documents/tomfoolery/oleorcarl\n"
     ]
    }
   ],
   "source": [
    "cd ../../"
   ]
  },
  {
   "cell_type": "code",
   "execution_count": 43,
   "metadata": {},
   "outputs": [
    {
     "data": {
      "text/plain": [
       "['https://media-exp1.licdn.com/dms/image/C5603AQE2Rit-E7LVSg/profile-displayphoto-shrink_800_800/0/1516476166923?e=1671667200&v=beta&t=d2juUzpw68P8BiXhOUhmrTNYPKVsdYwkx9BWU8gHyQA',\n",
       " 'https://media-exp1.licdn.com/dms/image/C4E03AQE_SkARkjcRXQ/profile-displayphoto-shrink_800_800/0/1608679379274?e=1671667200&v=beta&t=t9lFYlLPACHOMRfGPGblFhNPEor0qqpBx0474Evx8aE',\n",
       " 'https://media-exp1.licdn.com/dms/image/C4E03AQHR1tvMIHNN9A/profile-displayphoto-shrink_800_800/0/1567990331084?e=1671667200&v=beta&t=maOkUYdSsurllcQ9_v_C4rUM8gvGXfZlwUP9neCozJY',\n",
       " 'https://media-exp1.licdn.com/dms/image/D5603AQGO4zWDABSjiA/profile-displayphoto-shrink_800_800/0/1665113737008?e=1671667200&v=beta&t=5XxV8GOQFCc_haKP7yWl807yc7fLHY1rkEsN3_G1GTQ',\n",
       " 'https://media-exp1.licdn.com/dms/image/D4E03AQGvWm5g3Tzb0A/profile-displayphoto-shrink_800_800/0/1664554307721?e=1671667200&v=beta&t=iGwOnjfCJ4CB_tsY3Erdkv093ki4iDss_S8rNbaO8zo',\n",
       " 'https://media-exp1.licdn.com/dms/image/C4D03AQGu2ENoy6Y0oA/profile-displayphoto-shrink_800_800/0/1615090701177?e=1671667200&v=beta&t=gggt0r-YjF-hcjDsvdm5PB4N7FUusO7XhZ7qcOu132g',\n",
       " 'https://media-exp1.licdn.com/dms/image/C5603AQGiobaHV_NMxw/profile-displayphoto-shrink_800_800/0/1636655520786?e=1671667200&v=beta&t=P6JS99HzAFmbMn6FB7PbjDw73PIVUdZxbukL1k9lE-c',\n",
       " 'https://media-exp1.licdn.com/dms/image/C4E03AQG9zXj_zbj-Jg/profile-displayphoto-shrink_800_800/0/1568140338655?e=1671667200&v=beta&t=SCBbodglKJsbVXoWEIMyJOgV46Pv4SPTlegllP17Q9c',\n",
       " 'https://media-exp1.licdn.com/dms/image/C5603AQFN3nB5p_zCuQ/profile-displayphoto-shrink_800_800/0/1625676371707?e=1671667200&v=beta&t=J_VSRPkMUkOXo8Bn0dGKxYoqbSp-RsxlL7dAJdhpA6Q',\n",
       " 'https://media-exp1.licdn.com/dms/image/C4E03AQHYOThBigGtLw/profile-displayphoto-shrink_800_800/0/1601654361203?e=1671667200&v=beta&t=cvQlHjii7DVPYDsz7oPlzIWsTiHSFFNBYVxvls-CT-s',\n",
       " 'https://media-exp1.licdn.com/dms/image/C5603AQGLkn2Pltc08w/profile-displayphoto-shrink_800_800/0/1663968906257?e=1671667200&v=beta&t=_31CnJDfmEhkWtLY57kpqD-WKmhQIYraRPGmeIQfu0Y',\n",
       " 'https://media-exp1.licdn.com/dms/image/C4D03AQErHCByhUnisA/profile-displayphoto-shrink_800_800/0/1622043490437?e=1671667200&v=beta&t=4M6EtDUl04INFjn05PbbpI_4kX-paCPz9Zj7liFIefI',\n",
       " 'https://media-exp1.licdn.com/dms/image/C4D03AQEbRZ22h7Qffw/profile-displayphoto-shrink_800_800/0/1662147684057?e=1671667200&v=beta&t=P08SLfKk_mFFYKyYo4DtM-UKnh0_lK0pk71wLrk7_8g',\n",
       " 'https://media-exp1.licdn.com/dms/image/D5603AQGhz0E5xKI38A/profile-displayphoto-shrink_800_800/0/1663778583711?e=1671667200&v=beta&t=U1n0i7ruosdjdR03R-qqXH34JTWOdhfNImTbSaC882U',\n",
       " 'https://media-exp1.licdn.com/dms/image/D5603AQFtIfdh9wi1rA/profile-displayphoto-shrink_800_800/0/1666129867423?e=1671667200&v=beta&t=1o2wa6c9tMeqK4PMByXz9VSY2ak03xTr-YNYhHvfWao',\n",
       " 'https://media-exp1.licdn.com/dms/image/C4E03AQEcHxMmDNfHrA/profile-displayphoto-shrink_800_800/0/1630356171612?e=1671667200&v=beta&t=PA_HVzw5lDf1Kz1mS3Hw_hArXiVOp17zQN9FZzIkwcQ',\n",
       " 'https://media-exp1.licdn.com/dms/image/C4D03AQGtmOBQ3Rn7LA/profile-displayphoto-shrink_800_800/0/1568217591614?e=1671667200&v=beta&t=O6NrFHaee_guKhsM4EhgviRtjOvJSMlB3jXnYzmx2lU',\n",
       " 'https://media-exp1.licdn.com/dms/image/C5603AQFXIyR58H7rQA/profile-displayphoto-shrink_800_800/0/1517369818751?e=1671667200&v=beta&t=Edvo2E2wqCCGfWv9ZmzvWiKAl9qqPRr5wbR8TcFcnQ4',\n",
       " 'https://media-exp1.licdn.com/dms/image/C5603AQHB0V5t9LxiCg/profile-displayphoto-shrink_800_800/0/1607721713597?e=1671667200&v=beta&t=8l57LjHph2KPwmK0cY7Kulj0Pl5W5i6xpxcTK934HwM',\n",
       " 'https://media-exp1.licdn.com/dms/image/C5603AQG5am5rLemCRw/profile-displayphoto-shrink_800_800/0/1663520353146?e=1671667200&v=beta&t=gIxX209H7S3tCsjWQrXEGxPD_bs7tXj3deJ8MaBzegQ',\n",
       " 'https://media-exp1.licdn.com/dms/image/C4E03AQGvG5Mjx3isFA/profile-displayphoto-shrink_800_800/0/1517657152448?e=1671667200&v=beta&t=PMCpUEGruLfsGJsFzxrs-mz8aFR293hqB8smPWdqCGY',\n",
       " 'https://media-exp1.licdn.com/dms/image/C4D03AQF-59u6NPbFug/profile-displayphoto-shrink_800_800/0/1598342926743?e=1671667200&v=beta&t=WtVlFnlPhxGRRFrzSDEKq5nWzuhJzPchJInUfFbY10I',\n",
       " 'https://media-exp1.licdn.com/dms/image/C5603AQGYHUo_svRAKA/profile-displayphoto-shrink_800_800/0/1517434928580?e=1671667200&v=beta&t=m0IkJ-3i4ytDUhhSkaZEhAp1RYBwhEXsj8Rg-nJDX_Q',\n",
       " 'https://media-exp1.licdn.com/dms/image/C5103AQFDuMUOOyfETw/profile-displayphoto-shrink_800_800/0/1517445922091?e=1671667200&v=beta&t=DzH1Kp-GzstGPSGN7LULiLMfs0DW447OO7NwhAmzZtA',\n",
       " 'https://media-exp1.licdn.com/dms/image/C5603AQEK3xOZt94tJQ/profile-displayphoto-shrink_800_800/0/1659716560496?e=1671667200&v=beta&t=6ZMkNLI1_mCFevezAqj4hRRG2h3WabSKGuIZizEenWI',\n",
       " 'https://media-exp1.licdn.com/dms/image/D5603AQHVeaIwsy63dQ/profile-displayphoto-shrink_800_800/0/1665168592544?e=1671667200&v=beta&t=y9cPQsWdG3eyyEom34A24TjoOQuwRPpww4yjIx3safc',\n",
       " 'https://media-exp1.licdn.com/dms/image/C5103AQFbjY6u05GnHg/profile-displayphoto-shrink_800_800/0/1517605104312?e=1671667200&v=beta&t=clPs5XhG6Q-KQXReuUB0LsbEIfriVBMPOXzBvkaEuFk',\n",
       " 'https://media-exp1.licdn.com/dms/image/C4E03AQEP0P1uGPAVzA/profile-displayphoto-shrink_800_800/0/1517702910743?e=1671667200&v=beta&t=ngJoL5SGVEoYF1LAGyWRJ0u7yZyfP9eD9z9JAm0dGVQ',\n",
       " 'https://media-exp1.licdn.com/dms/image/C4E03AQEjQsld7bbylA/profile-displayphoto-shrink_800_800/0/1641533172626?e=1671667200&v=beta&t=9sdODtsdzQ1gTcZdAlNRl6b2odJrsExOeEYho1wxeCA',\n",
       " 'https://media-exp1.licdn.com/dms/image/C4E03AQHxU5_hH4u3NA/profile-displayphoto-shrink_800_800/0/1603137272772?e=1671667200&v=beta&t=R5oEFMAOmdm8fp1FNGbl5l99Ja1LEM5Fk5CrKhaS-_E',\n",
       " 'https://media-exp1.licdn.com/dms/image/C4D03AQGPgsJFKHq-aA/profile-displayphoto-shrink_800_800/0/1599463779507?e=1671667200&v=beta&t=qXoXztd704H1UQhHIjtY58LIstEGaaPSDfEqQZsHM1o',\n",
       " 'https://media-exp1.licdn.com/dms/image/C4E03AQGhuhLxTZ6wrg/profile-displayphoto-shrink_800_800/0/1654274409763?e=1671667200&v=beta&t=T1XOuYdYA1LEGFtTetrsfYNdEDaSIaUeHPOVyLji82M',\n",
       " 'https://media-exp1.licdn.com/dms/image/C4E03AQHVfQX5yU8qRA/profile-displayphoto-shrink_800_800/0/1516873433089?e=1671667200&v=beta&t=wJBPJ4nC1dsSW1biYnR5Nh_iwlX45L5IqKJEb_HjOuY']"
      ]
     },
     "execution_count": 43,
     "metadata": {},
     "output_type": "execute_result"
    }
   ],
   "source": [
    "import requests\n",
    "import json\n",
    "import yaml\n",
    "from urllib.parse import urlencode\n",
    "from operator import add\n",
    "from itertools import starmap\n",
    "\n",
    "import jmespath\n",
    "\n",
    "from oleorcarl.settings import LINKEDIN_HEADER_PATH\n",
    "\n",
    "base_url = \"https://www.linkedin.com/voyager/api/search/hits\"\n",
    "\n",
    "school_number = 20029\n",
    "n_page = 0\n",
    "n_per_page = 50\n",
    "\n",
    "params = dict(\n",
    "    start=n_page * n_per_page,\n",
    "    count=n_per_page,\n",
    "    facetSchool=f\"List({school_number})\",\n",
    "    origin=\"organization\",\n",
    "    q=\"people\",\n",
    ")\n",
    "\n",
    "with open(LINKEDIN_HEADER_PATH, \"rt\", encoding=\"utf8\") as f:\n",
    "    headers = yaml.full_load(f)\n",
    "\n",
    "url = f\"{base_url}?{urlencode(params, safe='()')}\"\n",
    "response = requests.get(url, headers=headers)\n",
    "\n",
    "img_urls = jmespath.search(\n",
    "    \"included[].picture[].join(``, [rootUrl, artifacts[-1].fileIdentifyingUrlPathSegment])\",\n",
    "    json.loads(response.text)\n",
    ")\n",
    "\n",
    "img_urls\n",
    "\n"
   ]
  },
  {
   "cell_type": "code",
   "execution_count": 47,
   "metadata": {},
   "outputs": [
    {
     "data": {
      "text/plain": [
       "'https://www.linkedin.com/voyager/api/search/hits'"
      ]
     },
     "execution_count": 47,
     "metadata": {},
     "output_type": "execute_result"
    }
   ],
   "source": [
    "from scrapy.http import FormRequest\n",
    "\n"
   ]
  },
  {
   "cell_type": "code",
   "execution_count": 2,
   "metadata": {},
   "outputs": [],
   "source": [
    "username, password = input(), input()"
   ]
  },
  {
   "cell_type": "code",
   "execution_count": 16,
   "metadata": {},
   "outputs": [],
   "source": [
    "from playwright.async_api import async_playwright\n",
    "\n",
    "async with async_playwright() as pw:\n",
    "    browser = await pw.chromium.launch(headless=False)\n",
    "    context = await browser.new_context()\n",
    "    page = await context.new_page()\n",
    "\n",
    "    # credentials\n",
    "    await page.goto(\"https://www.carleton.edu/directory/wp-login.php?redirect_to=%2Fdirectory%2F\")\n",
    "    await page.click(\"a[href^='/console/ds/s/']\")\n",
    "    \n",
    "    await page.fill(\"#username\", username)\n",
    "    await page.fill(\"#password\", password)\n",
    "    await page.click(\"form button[type='submit']\")\n",
    "\n",
    "    # duo auth\n",
    "    frame = page.frame_locator(\"#duo_iframe\")\n",
    "    await frame.locator(\".stay-logged-in input[type='checkbox']\").click()\n",
    "    await frame.locator(\".push-label button\").click()  # send push\n",
    "    await page.wait_for_url(\"*carleton.edu/directory/\")  # wait for approval\n",
    "\n",
    "    cookies = await context.cookies()\n"
   ]
  },
  {
   "cell_type": "code",
   "execution_count": null,
   "metadata": {},
   "outputs": [],
   "source": [
    "import logging\n",
    "from playwright.sync_api import sync_playwright\n",
    "\n",
    "\n",
    "with sync_playwright() as pw:\n",
    "    browser = pw.chromium.launch()\n",
    "    context = browser.new_context()\n",
    "    page = context.new_page()\n",
    "\n",
    "    # credentials\n",
    "    page.goto(\"https://go.carleton.edu/login\")\n",
    "    page.fill(\"#username\", username)\n",
    "    page.fill(\"#password\", password)\n",
    "    page.click(\"form button[type='submit']\")\n",
    "\n",
    "    # duo auth\n",
    "    frame = page.frame_locator(\"#duo_iframe\")\n",
    "    frame.locator(\".stay-logged-in input[type='checkbox']\").click()\n",
    "    frame.locator(\".push-label button\").click()  # send push\n",
    "    logging.info(\"Duo push notification sent. Waiting for approval...\")\n",
    "    \n",
    "    page.wait_for_url(\"*carleton.edu/auth/\")  # wait for approval\n",
    "    logging.info(\"Approval received!\")\n",
    "\n",
    "    cookies = context.cookies()"
   ]
  }
 ],
 "metadata": {
  "kernelspec": {
   "display_name": "Python 3.10.0 ('oleorcarl-5b2ydGv7')",
   "language": "python",
   "name": "python3"
  },
  "language_info": {
   "codemirror_mode": {
    "name": "ipython",
    "version": 3
   },
   "file_extension": ".py",
   "mimetype": "text/x-python",
   "name": "python",
   "nbconvert_exporter": "python",
   "pygments_lexer": "ipython3",
   "version": "3.10.0"
  },
  "orig_nbformat": 4,
  "vscode": {
   "interpreter": {
    "hash": "c6ae643377b615891a818274399b8406292329d13773116d3386e0c878cef1a1"
   }
  }
 },
 "nbformat": 4,
 "nbformat_minor": 2
}
