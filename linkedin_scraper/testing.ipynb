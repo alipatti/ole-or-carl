{
 "cells": [
  {
   "cell_type": "code",
   "execution_count": 34,
   "metadata": {},
   "outputs": [],
   "source": [
    "from selenium import webdriver\n",
    "from selenium.webdriver.common.by import By\n",
    "from selenium.webdriver.support.ui import WebDriverWait\n",
    "from selenium.webdriver.support import expected_conditions as EC"
   ]
  },
  {
   "cell_type": "code",
   "execution_count": 45,
   "metadata": {},
   "outputs": [],
   "source": [
    "try:\n",
    "    driver.close()\n",
    "except:\n",
    "    print(\"failed to close driver\")\n",
    "    pass\n",
    "\n",
    "driver = webdriver.Chrome()\n",
    "wait = WebDriverWait(driver, 10)\n",
    "\n",
    "\n",
    "def wait_and_get(*selector):\n",
    "    wait.until(EC.element_to_be_clickable(selector))\n",
    "    return driver.find_element(*selector)\n"
   ]
  },
  {
   "cell_type": "code",
   "execution_count": 46,
   "metadata": {},
   "outputs": [],
   "source": [
    "driver.get(\"http://linkedin.com/login\")  # sign in manually"
   ]
  },
  {
   "cell_type": "code",
   "execution_count": 48,
   "metadata": {},
   "outputs": [],
   "source": []
  },
  {
   "cell_type": "code",
   "execution_count": 74,
   "metadata": {},
   "outputs": [
    {
     "name": "stdout",
     "output_type": "stream",
     "text": [
      "Page now has 3 cards\n",
      "Page now has 19 cards\n",
      "Page now has 31 cards\n",
      "Page now has 43 cards\n",
      "Page now has 55 cards\n",
      "Page now has 67 cards\n",
      "Page now has 79 cards\n",
      "Page now has 91 cards\n",
      "Page now has 103 cards\n",
      "Page now has 115 cards\n"
     ]
    }
   ],
   "source": [
    "driver.get(\"http://linkedin.com/school/carleton-college/people\")\n",
    "\n",
    "n_cards = 0\n",
    "get_img_links = lambda driver: driver.find_elements(By.CSS_SELECTOR, \".artdeco-card\")\n",
    "page_updated = lambda driver: len(get_img_links(driver)) != n_cards\n",
    "\n",
    "for i in range(10):\n",
    "    wait.until(page_updated)\n",
    "    n_cards = len(get_img_links(driver))\n",
    "    print(f\"Page now has {n_cards} cards\")\n",
    "\n",
    "    driver.execute_script(\"window.scrollTo(0, document.body.scrollHeight);\")  # scroll\n",
    "\n",
    "    try:\n",
    "        wait_and_get(By.CLASS_NAME, \"scaffold-finite-scroll__load-button\").click()\n",
    "    except:\n",
    "        print(\"no button\")\n"
   ]
  },
  {
   "cell_type": "code",
   "execution_count": null,
   "metadata": {},
   "outputs": [],
   "source": []
  }
 ],
 "metadata": {
  "kernelspec": {
   "display_name": "Python 3.10.0 64-bit",
   "language": "python",
   "name": "python3"
  },
  "language_info": {
   "codemirror_mode": {
    "name": "ipython",
    "version": 3
   },
   "file_extension": ".py",
   "mimetype": "text/x-python",
   "name": "python",
   "nbconvert_exporter": "python",
   "pygments_lexer": "ipython3",
   "version": "3.10.0"
  },
  "orig_nbformat": 4,
  "vscode": {
   "interpreter": {
    "hash": "aee8b7b246df8f9039afb4144a1f6fd8d2ca17a180786b69acc140d282b71a49"
   }
  }
 },
 "nbformat": 4,
 "nbformat_minor": 2
}
